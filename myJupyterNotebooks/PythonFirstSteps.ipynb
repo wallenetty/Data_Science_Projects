{
 "cells": [
  {
   "cell_type": "markdown",
   "id": "6d460a90",
   "metadata": {},
   "source": [
    "## Understanding Machine Learning with Python 3\n",
    "\n",
    "Python and Jupyter Notebook Demo\n",
    "\n",
    "By default, new cells are for entering \"Code\" (by using the drop-down box or by pressing Esc + Y)\n",
    "\n",
    "Change the cell type to \"Markdown\" (by using the drop-down box or by pressing Esc + M) so that you can type in a title and description of the notebook\n",
    "### Press Shift + Enter to process a markdown"
   ]
  },
  {
   "cell_type": "markdown",
   "id": "b5c49f48",
   "metadata": {},
   "source": [
    "## Example 1: *Hello, World*"
   ]
  },
  {
   "cell_type": "code",
   "execution_count": 1,
   "id": "835fd659",
   "metadata": {},
   "outputs": [
    {
     "name": "stdout",
     "output_type": "stream",
     "text": [
      "Hello, Jeannette\n",
      "\n"
     ]
    }
   ],
   "source": [
    "my_name = \"Jeannette\"\n",
    "hello_statement = \"Hello, \" + my_name # The editor has completion, so if I type in \"my\" and hit Tab, it automatically looks up the variables and automatically completes a variable as my_name\n",
    "print(hello_statement, end=\"\\n\\n\") # check the syntax for the print statement by pressing Shift + Tab, it shows the documentation for the print statement\n",
    "# Press Shift + Tab twice to see the end argument\n",
    "# Press Shift + Return (or hit Run key) to tell Jupyter Notebook to execute the contents of the cell\n",
    "x = 10"
   ]
  },
  {
   "cell_type": "code",
   "execution_count": null,
   "id": "f37cbb86",
   "metadata": {},
   "outputs": [],
   "source": []
  },
  {
   "cell_type": "markdown",
   "id": "aa45102c",
   "metadata": {},
   "source": [
    "Example 2: World's *best* loop is here"
   ]
  },
  {
   "cell_type": "code",
   "execution_count": 2,
   "id": "2e635834",
   "metadata": {},
   "outputs": [
    {
     "name": "stdout",
     "output_type": "stream",
     "text": [
      "j=1 x=11\n",
      "j=2 x=13\n",
      "j=3 x=16\n",
      "j=4 x=20\n"
     ]
    }
   ],
   "source": [
    "# Loop example\n",
    "for j in range(1, 5): # enter a for statement\n",
    "    # we enter in the operations we want to perform within the loop, indentation is how Python knows that the code belongs in the loop\n",
    "    x = x + j\n",
    "    print(\"j={0} x={1}\".format(j, x))"
   ]
  },
  {
   "cell_type": "code",
   "execution_count": 3,
   "id": "e53a8612",
   "metadata": {},
   "outputs": [],
   "source": [
    "# To rerun the entire notebook, go to the menu item Kernel, and select the Restart & Run All option\n",
    "# In Python, you specify the starting point and the value not to exceed, not the ending value [Example: range(1, 5) will return 1, 2, 3, 4 but not 5]"
   ]
  }
 ],
 "metadata": {
  "kernelspec": {
   "display_name": "Python 3 (ipykernel)",
   "language": "python",
   "name": "python3"
  },
  "language_info": {
   "codemirror_mode": {
    "name": "ipython",
    "version": 3
   },
   "file_extension": ".py",
   "mimetype": "text/x-python",
   "name": "python",
   "nbconvert_exporter": "python",
   "pygments_lexer": "ipython3",
   "version": "3.9.12"
  }
 },
 "nbformat": 4,
 "nbformat_minor": 5
}
