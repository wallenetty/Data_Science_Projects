{
 "cells": [
  {
   "cell_type": "markdown",
   "id": "495afdf7",
   "metadata": {},
   "source": [
    "## Linear Regression Analysis\n",
    "### Simplilearn Video"
   ]
  },
  {
   "cell_type": "code",
   "execution_count": 4,
   "id": "f3bf179c",
   "metadata": {},
   "outputs": [],
   "source": [
    "# Importing the libraries\n",
    "import numpy as np\n",
    "import matplotlib.pyplot as plt\n",
    "import pandas as pd\n",
    "import seaborn as sns # we imported matplotlib, which seaborn uses. Seaborn recognizes the Pandas dataframe\n",
    "%matplotlib inline # our inline coding, without this our visualization wouldn't display\n",
    "# You could display it to a file and other means"
   ]
  },
  {
   "cell_type": "code",
   "execution_count": 5,
   "id": "b7fcb05d",
   "metadata": {},
   "outputs": [
    {
     "data": {
      "text/html": [
       "<div>\n",
       "<style scoped>\n",
       "    .dataframe tbody tr th:only-of-type {\n",
       "        vertical-align: middle;\n",
       "    }\n",
       "\n",
       "    .dataframe tbody tr th {\n",
       "        vertical-align: top;\n",
       "    }\n",
       "\n",
       "    .dataframe thead th {\n",
       "        text-align: right;\n",
       "    }\n",
       "</style>\n",
       "<table border=\"1\" class=\"dataframe\">\n",
       "  <thead>\n",
       "    <tr style=\"text-align: right;\">\n",
       "      <th></th>\n",
       "      <th>R&amp;D Spend</th>\n",
       "      <th>Administration</th>\n",
       "      <th>Marketing Spend</th>\n",
       "      <th>State</th>\n",
       "      <th>Profit</th>\n",
       "    </tr>\n",
       "  </thead>\n",
       "  <tbody>\n",
       "    <tr>\n",
       "      <th>0</th>\n",
       "      <td>165349.20</td>\n",
       "      <td>136897.80</td>\n",
       "      <td>471784.10</td>\n",
       "      <td>New York</td>\n",
       "      <td>192261.83</td>\n",
       "    </tr>\n",
       "    <tr>\n",
       "      <th>1</th>\n",
       "      <td>162597.70</td>\n",
       "      <td>151377.59</td>\n",
       "      <td>443898.53</td>\n",
       "      <td>California</td>\n",
       "      <td>191792.06</td>\n",
       "    </tr>\n",
       "    <tr>\n",
       "      <th>2</th>\n",
       "      <td>153441.51</td>\n",
       "      <td>101145.55</td>\n",
       "      <td>407934.54</td>\n",
       "      <td>Florida</td>\n",
       "      <td>191050.39</td>\n",
       "    </tr>\n",
       "    <tr>\n",
       "      <th>3</th>\n",
       "      <td>144372.41</td>\n",
       "      <td>118671.85</td>\n",
       "      <td>383199.62</td>\n",
       "      <td>New York</td>\n",
       "      <td>182901.99</td>\n",
       "    </tr>\n",
       "    <tr>\n",
       "      <th>4</th>\n",
       "      <td>142107.34</td>\n",
       "      <td>91391.77</td>\n",
       "      <td>366168.42</td>\n",
       "      <td>Florida</td>\n",
       "      <td>166187.94</td>\n",
       "    </tr>\n",
       "  </tbody>\n",
       "</table>\n",
       "</div>"
      ],
      "text/plain": [
       "   R&D Spend  Administration  Marketing Spend       State     Profit\n",
       "0  165349.20       136897.80        471784.10    New York  192261.83\n",
       "1  162597.70       151377.59        443898.53  California  191792.06\n",
       "2  153441.51       101145.55        407934.54     Florida  191050.39\n",
       "3  144372.41       118671.85        383199.62    New York  182901.99\n",
       "4  142107.34        91391.77        366168.42     Florida  166187.94"
      ]
     },
     "execution_count": 5,
     "metadata": {},
     "output_type": "execute_result"
    }
   ],
   "source": [
    "# Importing the dataset and Extracting the Independent and Dependent variables\n",
    "companies = pd.read_csv('1000_Companies.csv')\n",
    "X = companies.iloc[:, :-1].values # use iloc [take every row, except for the last column]\n",
    "y = companies.iloc[:, 4].values # use iloc [set to last row]\n",
    "\n",
    "companies.head() # list the first 5 rows of data\n",
    "# remember when we're programming, we always start with zero"
   ]
  },
  {
   "cell_type": "code",
   "execution_count": 6,
   "id": "5c25afe4",
   "metadata": {},
   "outputs": [
    {
     "data": {
      "text/plain": [
       "<AxesSubplot:>"
      ]
     },
     "execution_count": 6,
     "metadata": {},
     "output_type": "execute_result"
    },
    {
     "data": {
      "image/png": "[encoded data removed]",
      "text/plain": [
       "<Figure size 432x288 with 2 Axes>"
      ]
     },
     "metadata": {
      "needs_background": "light"
     },
     "output_type": "display_data"
    }
   ],
   "source": [
    "# Data Visualization\n",
    "# Building the Correlation matrix\n",
    "sns.heatmap(companies.corr()) # corr() stands for coordinates\n",
    "# if you cross index any two of these, the light (in this plot) diagonal row that shows that this is the highest corresponding data\n",
    "# the darker (in this plot) is where there's less connections between the data"
   ]
  },
  {
   "cell_type": "code",
   "execution_count": 7,
   "id": "fb2cac34",
   "metadata": {},
   "outputs": [],
   "source": [
    "# Encoding categorical data\n",
    "# At timestamp 25:13 in the Simplilearn video, the code used to One Hot Encode categorical data is deprecated -\n",
    "# instead, use the following code to turn your categorical data into numerical numbers (Step: 471)\n",
    "from sklearn.preprocessing import LabelEncoder, OneHotEncoder\n",
    "from sklearn.compose import ColumnTransformer\n",
    "labelencoder = LabelEncoder()\n",
    "X[:, 3] = labelencoder.fit_transform(X[:, 3]) # change categorical data into numerical data\n",
    "onehotencoder = ColumnTransformer([(\"State\", OneHotEncoder(), [3])], remainder=\"passthrough\")\n",
    "X = onehotencoder.fit_transform(X)"
   ]
  },
  {
   "cell_type": "code",
   "execution_count": 8,
   "id": "6131908c",
   "metadata": {},
   "outputs": [],
   "source": [
    "# Avoiding the Dummy Variable Trap\n",
    "X = X[:, 1:] # removing that one extra column we put in there whe we did our OneHotEncoder and our label encoding"
   ]
  },
  {
   "cell_type": "code",
   "execution_count": 11,
   "id": "87e92203",
   "metadata": {},
   "outputs": [],
   "source": [
    "# Splitting the dataset into the Training set and Test set\n",
    "from sklearn.model_selection import train_test_split\n",
    "X_train, X_test, y_train, y_test = train_test_split(X, y, test_size = 0.2, random_state = 0) # test size = 0.2 or 20%"
   ]
  },
  {
   "cell_type": "code",
   "execution_count": 12,
   "id": "1f36dd10",
   "metadata": {},
   "outputs": [
    {
     "data": {
      "text/plain": [
       "LinearRegression()"
      ]
     },
     "execution_count": 12,
     "metadata": {},
     "output_type": "execute_result"
    }
   ],
   "source": [
    "# Fitting Multiple Linear Regression to the Training set\n",
    "from sklearn.linear_model import LinearRegression\n",
    "regressor = LinearRegression()\n",
    "regressor.fit(X_train, y_train)"
   ]
  },
  {
   "cell_type": "code",
   "execution_count": 13,
   "id": "249255d4",
   "metadata": {},
   "outputs": [
    {
     "data": {
      "text/plain": [
       "array([ 89790.61532915,  88427.07187361,  94894.67836971, 175680.86725611,\n",
       "        83411.73042088, 110571.90200074, 132145.2293644 ,  91473.37719686,\n",
       "       164597.05380607,  53222.826674  ,  66950.19050989, 150566.43987005,\n",
       "       126915.20858596,  59337.85971049, 177513.91053062,  75316.2814305 ,\n",
       "       118248.14406603, 164574.40699902, 170937.2898107 , 182069.11645085,\n",
       "       118845.03252689,  85669.95112228, 180992.59396144,  84145.08220144,\n",
       "       105005.83769214, 101233.56772746,  53831.0766909 ,  56881.41475223,\n",
       "        68896.39346904, 210040.00765884, 120778.72270894, 111724.87157654,\n",
       "       101487.90541517, 137959.02649624,  63969.95996743, 108857.91214126,\n",
       "       186014.72531989, 171442.64130748, 174644.26529205, 117671.49128195,\n",
       "        96731.37857433, 165452.2577941 , 107724.34331255,  50194.54176912,\n",
       "       116513.89532179,  58632.4898682 , 158416.4682761 ,  78541.48521609,\n",
       "       159727.66671744, 131137.87699644, 184880.70924517, 174609.08266881,\n",
       "        93745.66352058,  78341.13383417, 180745.9043908 ,  84461.61490552,\n",
       "       142900.90602903, 170618.44098397,  84365.09530838, 105307.3716218 ,\n",
       "       141660.07290787,  52527.34340441, 141842.96264161, 139176.27973195,\n",
       "        98294.52669666, 113586.86790969, 126754.21895489, 152135.51985562,\n",
       "        58864.51658954, 174285.5736113 , 124624.04380784, 169065.77658979,\n",
       "        91279.33198209, 156170.37268963,  84307.26579365,  77877.75223096,\n",
       "       120414.02421346,  93380.44273241, 139020.62514121, 143604.67103573,\n",
       "       171148.30815369, 140082.97050132, 106369.71689747, 155641.43851388,\n",
       "       140030.10330037, 110172.87893525,  69672.98677564,  88148.52068041,\n",
       "       140133.59925093, 148479.09537888, 157916.63505257,  58532.9486314 ,\n",
       "        93707.3842239 , 112646.37475705,  56556.1894366 , 107414.89996181,\n",
       "       147352.80227753, 152144.10104034, 167808.11701784, 118750.25230713,\n",
       "       120763.27666701, 139029.95295663, 157527.9093412 , 121962.0621496 ,\n",
       "        87091.32399736, 104792.91384333,  95335.22679185, 178389.52287437,\n",
       "       181942.63776382, 109831.34945506, 165254.03344097, 167806.06491903,\n",
       "       158002.44642544, 174782.86900957, 170196.77102699,  52302.18161611,\n",
       "       176938.1159579 , 104751.83583865,  82710.31528805, 138890.52767844,\n",
       "       144274.74675425, 161679.01836441, 169662.05445896, 120450.9231013 ,\n",
       "       158880.70799547, 110213.73252824, 169674.51532367,  60760.61300841,\n",
       "       159036.99629068, 158169.44286048, 174511.70494476, 156294.79927784,\n",
       "       103714.37583212,  85635.96237574, 141603.54878757, 165917.6915698 ,\n",
       "       121182.03641977, 170751.87883894, 100505.77549411,  82097.51033127,\n",
       "       178643.18879843, 101790.48384578,  70507.40958621,  90250.04230088,\n",
       "        61247.49962679,  68912.1753452 ,  72775.81613475, 176914.08873125,\n",
       "        89704.69244931, 129209.43730015,  92672.90938382,  88133.59175043,\n",
       "       172836.33021619,  60893.62070013, 169015.89446011, 166450.24453205,\n",
       "       165425.54476416, 102170.5169499 , 181594.57928217,  73702.57942561,\n",
       "        91267.42979668, 135791.54160195,  64922.80257299,  71775.70235725,\n",
       "        60603.91401515, 184288.61041916, 176286.69585946, 158907.75687039,\n",
       "       141359.32216439, 154611.17928321,  58549.58863232,  90618.58407899,\n",
       "       152885.51163925, 168398.05223806,  72485.36274539, 116064.24350667,\n",
       "        80087.80697208, 149828.90896188, 116806.9595737 , 130191.48845161,\n",
       "       174534.42670329, 293584.45948284, 146270.83174789, 150646.69178014,\n",
       "        86107.47782247,  69967.20842245,  70096.78368773,  69033.69170768,\n",
       "       120666.75708064,  89677.68014063, 166824.27091663, 125514.76626409,\n",
       "        67209.67687466, 140930.69427703, 118544.30490695, 165897.61905907,\n",
       "       168655.48652553, 147009.66805049, 141396.22104147, 109086.50634849])"
      ]
     },
     "execution_count": 13,
     "metadata": {},
     "output_type": "execute_result"
    }
   ],
   "source": [
    "# Predicting the Test set results\n",
    "y_pred = regressor.predict(X_test)\n",
    "y_pred"
   ]
  },
  {
   "cell_type": "code",
   "execution_count": 14,
   "id": "d2163776",
   "metadata": {},
   "outputs": [
    {
     "name": "stdout",
     "output_type": "stream",
     "text": [
      "[-8.80536598e+02 -6.98169073e+02  5.25845857e-01  8.44390881e-01\n",
      "  1.07574255e-01]\n"
     ]
    }
   ],
   "source": [
    "# Calculating the Coefficients\n",
    "print(regressor.coef_)"
   ]
  },
  {
   "cell_type": "code",
   "execution_count": 15,
   "id": "c74ad65b",
   "metadata": {},
   "outputs": [
    {
     "name": "stdout",
     "output_type": "stream",
     "text": [
      "-51035.2297240395\n"
     ]
    }
   ],
   "source": [
    "# Calcultaing the Intercept\n",
    "print(regressor.intercept_)"
   ]
  },
  {
   "cell_type": "code",
   "execution_count": 16,
   "id": "d1f69ac3",
   "metadata": {},
   "outputs": [
    {
     "data": {
      "text/plain": [
       "0.9112695892268868"
      ]
     },
     "execution_count": 16,
     "metadata": {},
     "output_type": "execute_result"
    }
   ],
   "source": [
    "# Calculating the R squared value, we're looking at the error\n",
    "from sklearn.metrics import r2_score\n",
    "r2_score(y_test, y_pred)\n",
    "# R squared value of 0.91 proves the model is a good model, 0.9 or higher is a good model"
   ]
  },
  {
   "cell_type": "code",
   "execution_count": null,
   "id": "931a4e0f",
   "metadata": {},
   "outputs": [],
   "source": []
  }
 ],
 "metadata": {
  "kernelspec": {
   "display_name": "Python 3 (ipykernel)",
   "language": "python",
   "name": "python3"
  },
  "language_info": {
   "codemirror_mode": {
    "name": "ipython",
    "version": 3
   },
   "file_extension": ".py",
   "mimetype": "text/x-python",
   "name": "python",
   "nbconvert_exporter": "python",
   "pygments_lexer": "ipython3",
   "version": "3.9.12"
  }
 },
 "nbformat": 4,
 "nbformat_minor": 5
}
