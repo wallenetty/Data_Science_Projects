{
 "cells": [
  {
   "cell_type": "code",
   "execution_count": 1,
   "id": "de9e8a06",
   "metadata": {},
   "outputs": [],
   "source": [
    "import pandas as pd"
   ]
  },
  {
   "cell_type": "code",
   "execution_count": 2,
   "id": "775cbd99",
   "metadata": {},
   "outputs": [],
   "source": [
    "data = {\n",
    "    'cats':[3,5,3,2],\n",
    "    'dogs':[5,3,8,4]\n",
    "}"
   ]
  },
  {
   "cell_type": "code",
   "execution_count": 3,
   "id": "b5d7e96b",
   "metadata": {},
   "outputs": [
    {
     "data": {
      "text/html": [
       "<div>\n",
       "<style scoped>\n",
       "    .dataframe tbody tr th:only-of-type {\n",
       "        vertical-align: middle;\n",
       "    }\n",
       "\n",
       "    .dataframe tbody tr th {\n",
       "        vertical-align: top;\n",
       "    }\n",
       "\n",
       "    .dataframe thead th {\n",
       "        text-align: right;\n",
       "    }\n",
       "</style>\n",
       "<table border=\"1\" class=\"dataframe\">\n",
       "  <thead>\n",
       "    <tr style=\"text-align: right;\">\n",
       "      <th></th>\n",
       "      <th>cats</th>\n",
       "      <th>dogs</th>\n",
       "    </tr>\n",
       "  </thead>\n",
       "  <tbody>\n",
       "    <tr>\n",
       "      <th>0</th>\n",
       "      <td>3</td>\n",
       "      <td>5</td>\n",
       "    </tr>\n",
       "    <tr>\n",
       "      <th>1</th>\n",
       "      <td>5</td>\n",
       "      <td>3</td>\n",
       "    </tr>\n",
       "    <tr>\n",
       "      <th>2</th>\n",
       "      <td>3</td>\n",
       "      <td>8</td>\n",
       "    </tr>\n",
       "    <tr>\n",
       "      <th>3</th>\n",
       "      <td>2</td>\n",
       "      <td>4</td>\n",
       "    </tr>\n",
       "  </tbody>\n",
       "</table>\n",
       "</div>"
      ],
      "text/plain": [
       "   cats  dogs\n",
       "0     3     5\n",
       "1     5     3\n",
       "2     3     8\n",
       "3     2     4"
      ]
     },
     "execution_count": 3,
     "metadata": {},
     "output_type": "execute_result"
    }
   ],
   "source": [
    "listView = pd.DataFrame(data) #notice we use 'pd'\n",
    "                              #accessing the Pandas Library\n",
    "listView #we can print a dataframe by simply typing its name"
   ]
  },
  {
   "cell_type": "code",
   "execution_count": 4,
   "id": "cb325ba6",
   "metadata": {},
   "outputs": [],
   "source": [
    "import random"
   ]
  },
  {
   "cell_type": "code",
   "execution_count": 5,
   "id": "46cdb61e",
   "metadata": {},
   "outputs": [],
   "source": [
    "#pick any seed number I chose 52\n",
    "random.seed(52)"
   ]
  },
  {
   "cell_type": "code",
   "execution_count": 6,
   "id": "496142ca",
   "metadata": {},
   "outputs": [
    {
     "name": "stdout",
     "output_type": "stream",
     "text": [
      "138\n"
     ]
    }
   ],
   "source": [
    "#print a random number between 1 and 500\n",
    "print(random.randint(1,500))"
   ]
  },
  {
   "cell_type": "code",
   "execution_count": 7,
   "id": "c006cd18",
   "metadata": {},
   "outputs": [
    {
     "name": "stdout",
     "output_type": "stream",
     "text": [
      "28\n"
     ]
    }
   ],
   "source": [
    "#print again and get a random number\n",
    "print(random.randint(1,500))"
   ]
  },
  {
   "cell_type": "code",
   "execution_count": 8,
   "id": "be6306c5",
   "metadata": {},
   "outputs": [
    {
     "name": "stdout",
     "output_type": "stream",
     "text": [
      "138\n"
     ]
    }
   ],
   "source": [
    "#if you want to print the same number again\n",
    "# use the same seed number from earlier\n",
    "random.seed(52)\n",
    "print(random.randint(1,500))"
   ]
  },
  {
   "cell_type": "code",
   "execution_count": 9,
   "id": "de26a0d6",
   "metadata": {},
   "outputs": [
    {
     "name": "stdout",
     "output_type": "stream",
     "text": [
      "69\n",
      "122\n",
      "69\n",
      "122\n",
      "69\n",
      "122\n",
      "69\n",
      "122\n",
      "69\n",
      "122\n",
      "69\n",
      "122\n"
     ]
    }
   ],
   "source": [
    "for i in range (6):\n",
    "    random.seed(52)\n",
    "    print(random.randint(1,200))\n",
    "    random.seed(3)\n",
    "    print(random.randint(1,300))"
   ]
  },
  {
   "cell_type": "code",
   "execution_count": 10,
   "id": "4d7d9b9c",
   "metadata": {},
   "outputs": [],
   "source": [
    "data = {\n",
    "    'cats':[5,12,6,9],\n",
    "    'dogs':[3,1,35,8]\n",
    "}"
   ]
  },
  {
   "cell_type": "code",
   "execution_count": 12,
   "id": "4a7e5425",
   "metadata": {},
   "outputs": [],
   "source": [
    "import pandas as pd"
   ]
  },
  {
   "cell_type": "code",
   "execution_count": 13,
   "id": "78395e46",
   "metadata": {},
   "outputs": [],
   "source": [
    "data = {\n",
    "    'cats':[5,12,6,9],\n",
    "    'dogs':[3,1,35,8]\n",
    "}"
   ]
  },
  {
   "cell_type": "code",
   "execution_count": 14,
   "id": "197bcda4",
   "metadata": {},
   "outputs": [
    {
     "data": {
      "text/html": [
       "<div>\n",
       "<style scoped>\n",
       "    .dataframe tbody tr th:only-of-type {\n",
       "        vertical-align: middle;\n",
       "    }\n",
       "\n",
       "    .dataframe tbody tr th {\n",
       "        vertical-align: top;\n",
       "    }\n",
       "\n",
       "    .dataframe thead th {\n",
       "        text-align: right;\n",
       "    }\n",
       "</style>\n",
       "<table border=\"1\" class=\"dataframe\">\n",
       "  <thead>\n",
       "    <tr style=\"text-align: right;\">\n",
       "      <th></th>\n",
       "      <th>cats</th>\n",
       "      <th>dogs</th>\n",
       "    </tr>\n",
       "  </thead>\n",
       "  <tbody>\n",
       "    <tr>\n",
       "      <th>0</th>\n",
       "      <td>5</td>\n",
       "      <td>3</td>\n",
       "    </tr>\n",
       "    <tr>\n",
       "      <th>1</th>\n",
       "      <td>12</td>\n",
       "      <td>1</td>\n",
       "    </tr>\n",
       "    <tr>\n",
       "      <th>2</th>\n",
       "      <td>6</td>\n",
       "      <td>35</td>\n",
       "    </tr>\n",
       "    <tr>\n",
       "      <th>3</th>\n",
       "      <td>9</td>\n",
       "      <td>8</td>\n",
       "    </tr>\n",
       "  </tbody>\n",
       "</table>\n",
       "</div>"
      ],
      "text/plain": [
       "   cats  dogs\n",
       "0     5     3\n",
       "1    12     1\n",
       "2     6    35\n",
       "3     9     8"
      ]
     },
     "execution_count": 14,
     "metadata": {},
     "output_type": "execute_result"
    }
   ],
   "source": [
    "listView = pd.DataFrame(data)\n",
    "listView"
   ]
  },
  {
   "cell_type": "code",
   "execution_count": 15,
   "id": "46449b2a",
   "metadata": {},
   "outputs": [],
   "source": [
    "import random"
   ]
  },
  {
   "cell_type": "code",
   "execution_count": 16,
   "id": "61de29a1",
   "metadata": {},
   "outputs": [],
   "source": [
    "random.seed(5)"
   ]
  },
  {
   "cell_type": "code",
   "execution_count": 17,
   "id": "f5de00cb",
   "metadata": {},
   "outputs": [
    {
     "name": "stdout",
     "output_type": "stream",
     "text": [
      "319\n"
     ]
    }
   ],
   "source": [
    "print(random.randint(1,500))"
   ]
  },
  {
   "cell_type": "code",
   "execution_count": 18,
   "id": "2e533ed3",
   "metadata": {},
   "outputs": [
    {
     "name": "stdout",
     "output_type": "stream",
     "text": [
      "131\n"
     ]
    }
   ],
   "source": [
    "print(random.randint(1,500))"
   ]
  },
  {
   "cell_type": "code",
   "execution_count": 19,
   "id": "89be52e0",
   "metadata": {},
   "outputs": [
    {
     "name": "stdout",
     "output_type": "stream",
     "text": [
      "319\n"
     ]
    }
   ],
   "source": [
    "random.seed(5)\n",
    "print(random.randint(1,500))"
   ]
  },
  {
   "cell_type": "code",
   "execution_count": 22,
   "id": "129771d3",
   "metadata": {},
   "outputs": [
    {
     "name": "stdout",
     "output_type": "stream",
     "text": [
      "160\n",
      "122\n",
      "160\n",
      "122\n",
      "160\n",
      "122\n",
      "160\n",
      "122\n",
      "160\n",
      "122\n",
      "160\n",
      "122\n"
     ]
    }
   ],
   "source": [
    "for i in range (6):\n",
    "    random.seed(5)\n",
    "    print(random.randint(1,200))\n",
    "    random.seed(3)\n",
    "    print(random.randint(1,300))"
   ]
  },
  {
   "cell_type": "code",
   "execution_count": null,
   "id": "081bced0",
   "metadata": {},
   "outputs": [],
   "source": []
  }
 ],
 "metadata": {
  "kernelspec": {
   "display_name": "Python 3 (ipykernel)",
   "language": "python",
   "name": "python3"
  },
  "language_info": {
   "codemirror_mode": {
    "name": "ipython",
    "version": 3
   },
   "file_extension": ".py",
   "mimetype": "text/x-python",
   "name": "python",
   "nbconvert_exporter": "python",
   "pygments_lexer": "ipython3",
   "version": "3.9.12"
  }
 },
 "nbformat": 4,
 "nbformat_minor": 5
}
